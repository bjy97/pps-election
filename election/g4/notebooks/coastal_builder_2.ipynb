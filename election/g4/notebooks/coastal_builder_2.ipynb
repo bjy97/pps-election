{
 "cells": [
  {
   "cell_type": "code",
   "execution_count": 218,
   "metadata": {},
   "outputs": [],
   "source": [
    "file_name = \"utah_3_rightish_test25\"\n",
    "total_num_parties=3\n",
    "centroid_translate = 25"
   ]
  },
  {
   "cell_type": "markdown",
   "metadata": {},
   "source": [
    "### Geometry functions"
   ]
  },
  {
   "cell_type": "code",
   "execution_count": 219,
   "metadata": {},
   "outputs": [],
   "source": [
    "# get a point on a side from distance along that side\n",
    "def left_y(x):\n",
    "    if x > 500 or x < 0:\n",
    "        return None\n",
    "    return x * np.sqrt(3)\n",
    "\n",
    "def get_left_point(d):\n",
    "    return (d / 2, d / 2 * np.sqrt(3))\n",
    "    \n",
    "def get_right_point(d):\n",
    "    l_point = get_left_point(d)\n",
    "    return (1000 - l_point[0], l_point[1])\n",
    "\n",
    "def get_bottom_point(d):\n",
    "    return (d, 0)\n",
    "\n",
    "get_point = {0: get_bottom_point, 1: get_left_point, 2: get_right_point}\n",
    "\n",
    "# functions to get points on sides given x\n",
    "def y_bottom(x):\n",
    "    return 0\n",
    "def y_left(x):\n",
    "    return x * np.sqrt(3)\n",
    "def y_right(x):\n",
    "    return np.sqrt(3) * (1000 - x)\n",
    "\n",
    "# check bounds\n",
    "def in_bounds(point):\n",
    "    x, y = point[0], point[1]\n",
    "    condition1 = y >= y_bottom(x)\n",
    "    condition2 = y <= y_left(x)\n",
    "    condition3 = y <= y_right(x)\n",
    "    return condition1 and condition2 and condition3\n",
    "\n",
    "# functions to move away from a side of the triangle\n",
    "def right_side_deltas(d):\n",
    "    return (-d/2 * np.sqrt(3), -d/2)\n",
    "def left_side_deltas(d):\n",
    "    return (d/2 * np.sqrt(3), -d/2)\n",
    "def bottom_side_deltas(d):\n",
    "    return (0, d)\n",
    "\n",
    "get_deltas = {0: bottom_side_deltas, 1: left_side_deltas, 2: right_side_deltas}"
   ]
  },
  {
   "cell_type": "markdown",
   "metadata": {},
   "source": [
    "### General map making function to build file from data"
   ]
  },
  {
   "cell_type": "code",
   "execution_count": 220,
   "metadata": {},
   "outputs": [],
   "source": [
    "import numpy as np\n",
    "\n",
    "population = 333333\n",
    "pop_1_3    = population/3\n",
    "\n",
    "def make_coastal(name, locations, total_num_parties, num_coast_parties):\n",
    "    f = open(name, \"w\")\n",
    "    coastal_pop = int(np.floor((total_num_parties - 1) / total_num_parties * population))\n",
    "    if num_coast_parties==1 and total_num_parties==2:\n",
    "        prefs_right = [1.0,0.1]\n",
    "        prefs_left = prefs_right\n",
    "    if num_coast_parties==2 and total_num_parties==3:\n",
    "        prefs_left = [1.0, 0.1, 0.1]\n",
    "        prefs_right = [0.1,1.0,0.1]\n",
    "    \n",
    "    line = str(population) + \" \" + str(total_num_parties) + \"\\n\"\n",
    "    f.write(line)\n",
    "    for i in range(coastal_pop):\n",
    "        location = locations[i]\n",
    "        loc_x = location[0]\n",
    "        loc_y = location[1]\n",
    "        prefs = prefs_right\n",
    "        if loc_x < 500:\n",
    "            prefs = prefs_left\n",
    "        f.write(str(loc_x) + \" \")\n",
    "        f.write(str(loc_y) + \" \")\n",
    "        f.write(str(prefs[0]) + \" \" + str(prefs[1]) + \"\\n\")\n",
    "\n",
    "    f.close()"
   ]
  },
  {
   "cell_type": "code",
   "execution_count": 221,
   "metadata": {},
   "outputs": [],
   "source": [
    "def make_central(name, total_num_parties):\n",
    "    mean = np.array([centroid.x, centroid.y])\n",
    "    var = 200\n",
    "    cov = np.array([[var, 0],\n",
    "                    [0, var]])\n",
    "\n",
    "    f = open(name, \"a+\")\n",
    "    central_pop = int(np.ceil(population / total_num_parties))\n",
    "    prefs = [0.1] * (total_num_parties - 1)\n",
    "    prefs.append(1.0)\n",
    "    for i in range(central_pop):\n",
    "        location = np.random.multivariate_normal(mean, cov, size=1)\n",
    "        loc_x = location[0][0]\n",
    "        loc_y = location[0][1]\n",
    "        f.write(str(loc_x) + \" \")\n",
    "        f.write(str(loc_y) + \" \")\n",
    "        pref_string = \"\"\n",
    "        for i in range(total_num_parties):\n",
    "            pref_string += str(prefs[i]) + \" \"\n",
    "        f.write(pref_string + \"\\n\")\n",
    "    f.close()"
   ]
  },
  {
   "cell_type": "code",
   "execution_count": 222,
   "metadata": {},
   "outputs": [
    {
     "data": {
      "text/plain": [
       "'0.1 0.1 1.0 '"
      ]
     },
     "execution_count": 222,
     "metadata": {},
     "output_type": "execute_result"
    }
   ],
   "source": [
    "prefs = [0.1] * (3 - 1)\n",
    "prefs.append(1.0)\n",
    "pref_string = \"\"\n",
    "for i in range(3):\n",
    "    pref_string += str(prefs[i]) + \" \"\n",
    "pref_string"
   ]
  },
  {
   "cell_type": "markdown",
   "metadata": {},
   "source": [
    "### Get voter points and voter preferences"
   ]
  },
  {
   "cell_type": "code",
   "execution_count": 223,
   "metadata": {},
   "outputs": [],
   "source": [
    "make_coastal(file_name, locs, total_num_parties=total_num_parties, num_coast_parties=total_num_parties-1)"
   ]
  },
  {
   "cell_type": "code",
   "execution_count": 224,
   "metadata": {},
   "outputs": [],
   "source": [
    "def generate_fuzzy_coastal_point():\n",
    "    while(True):\n",
    "        side = np.random.randint(3)\n",
    "        d = np.random.normal(500, 300)\n",
    "        border_point = get_point[side](d)\n",
    "        dis_in = np.random.exponential() * 50\n",
    "        deltas = get_deltas[side](dis_in)\n",
    "        point = (border_point[0] + deltas[0], border_point[1] + deltas[1])\n",
    "        if in_bounds(point):\n",
    "            return point\n",
    "\n",
    "locs = []\n",
    "for i in range(222222):\n",
    "    locs.append(generate_fuzzy_coastal_point())"
   ]
  },
  {
   "cell_type": "code",
   "execution_count": 225,
   "metadata": {},
   "outputs": [],
   "source": [
    "make_central(file_name, total_num_parties=total_num_parties)"
   ]
  },
  {
   "cell_type": "markdown",
   "metadata": {},
   "source": [
    "### Print map to file"
   ]
  },
  {
   "cell_type": "code",
   "execution_count": 226,
   "metadata": {},
   "outputs": [],
   "source": [
    "class Point:\n",
    "    def __init__(self, x,y):\n",
    "        self.x = x\n",
    "        self.y = y\n",
    "    def __repr__(self):\n",
    "        return \"({}, {})\".format(self.x, self.y)"
   ]
  },
  {
   "cell_type": "code",
   "execution_count": 227,
   "metadata": {},
   "outputs": [],
   "source": [
    "map_points = [Point(0,0), Point(1000,0), Point(500, 500 * np.sqrt(3))]\n",
    "mean_x = np.mean([map_points[0].x, map_points[1].x, map_points[2].x])\n",
    "mean_y = np.mean([map_points[0].y, map_points[1].y, map_points[2].y])\n",
    "centroid = Point(mean_x, mean_y)\n",
    "rightish_centroid = Point(mean_x + centroid_translate, mean_y)"
   ]
  },
  {
   "cell_type": "code",
   "execution_count": 228,
   "metadata": {},
   "outputs": [],
   "source": [
    "bottom_linspace = np.linspace(0,1000, 28)\n",
    "left_linspace = np.linspace(0, 500, 28)\n",
    "right_linspace = np.linspace(500, 1000, 28)\n",
    "\n",
    "def get_1_3rd_districts(get_y, x_linspace):\n",
    "    triangles = []\n",
    "    for i in range(27):\n",
    "        triangle = [rightish_centroid]\n",
    "        x = x_linspace[i]\n",
    "        y = get_y(x)\n",
    "        triangle.append(Point(x, y))\n",
    "        x = x_linspace[i + 1]\n",
    "        y = get_y(x)\n",
    "        triangle.append(Point(x, y))\n",
    "        triangles.append(triangle)\n",
    "    return triangles\n",
    "\n",
    "def get_all_3_districts():\n",
    "    dist1 = get_1_3rd_districts(y_bottom, bottom_linspace)\n",
    "    dist2 = get_1_3rd_districts(y_left, left_linspace)\n",
    "    dist3 = get_1_3rd_districts(y_right, right_linspace)\n",
    "    return dist1 + dist2 + dist3\n",
    "    "
   ]
  },
  {
   "cell_type": "code",
   "execution_count": 229,
   "metadata": {},
   "outputs": [],
   "source": [
    "def append_districts(name):\n",
    "    f = open(name, \"a+\")\n",
    "    f.write(str(81) + \"\\n\")\n",
    "    triangles = get_all_3_districts()\n",
    "    for triangle in triangles:\n",
    "        f.write(str(3) + \" \")\n",
    "        for point in triangle:\n",
    "            f.write(str(point.x) + \" \" + str(point.y) + \" \")\n",
    "        f.write(\"\\n\")\n",
    "    f.close()\n",
    "    "
   ]
  },
  {
   "cell_type": "code",
   "execution_count": 230,
   "metadata": {},
   "outputs": [],
   "source": [
    "append_districts(file_name)"
   ]
  },
  {
   "cell_type": "code",
   "execution_count": null,
   "metadata": {},
   "outputs": [],
   "source": []
  }
 ],
 "metadata": {
  "kernelspec": {
   "display_name": "Python 3",
   "language": "python",
   "name": "python3"
  },
  "language_info": {
   "codemirror_mode": {
    "name": "ipython",
    "version": 3
   },
   "file_extension": ".py",
   "mimetype": "text/x-python",
   "name": "python",
   "nbconvert_exporter": "python",
   "pygments_lexer": "ipython3",
   "version": "3.6.7"
  }
 },
 "nbformat": 4,
 "nbformat_minor": 2
}
