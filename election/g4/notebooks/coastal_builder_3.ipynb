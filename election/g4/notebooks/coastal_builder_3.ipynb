{
 "cells": [
  {
   "cell_type": "markdown",
   "metadata": {},
   "source": [
    "### General map making function to build file from data"
   ]
  },
  {
   "cell_type": "code",
   "execution_count": 105,
   "metadata": {},
   "outputs": [],
   "source": [
    "import numpy as np\n",
    "\n",
    "def make_coastal(name, locations):\n",
    "    f = open(name, \"w\")\n",
    "    population = 333333\n",
    "    sub_pop = 222222\n",
    "    num_parties = 3\n",
    "    prefs_left = [1.0,0.1,0.1]\n",
    "    prefs_right = [0.1,1.0,0.1]\n",
    "    line = str(population) + \" \" + str(num_parties) + \"\\n\"\n",
    "    f.write(line)\n",
    "    for i in range(sub_pop):\n",
    "        location = locations[i]\n",
    "        loc_x = location[0]\n",
    "        loc_y = location[1]\n",
    "        prefs = prefs_right\n",
    "        if loc_x < 500:\n",
    "            prefs = prefs_left\n",
    "        f.write(str(loc_x) + \" \")\n",
    "        f.write(str(loc_y) + \" \")\n",
    "        f.write(str(prefs[0]) + \" \" + str(prefs[1]) + \" \" + str(prefs[2]) + \"\\n\")\n",
    "\n",
    "    f.close()"
   ]
  },
  {
   "cell_type": "code",
   "execution_count": 106,
   "metadata": {},
   "outputs": [],
   "source": [
    "def make_central(name):\n",
    "    mean = np.array([centroid.x + 50, centroid.y])\n",
    "    var = 200\n",
    "    cov = np.array([[var, 0],\n",
    "                    [0, var]])\n",
    "\n",
    "    f = open(name, \"a+\")\n",
    "    population = 111111\n",
    "    num_parties = 3\n",
    "    prefs = [0.1,0.1,1.0]\n",
    "    for i in range(population):\n",
    "        location = np.random.multivariate_normal(mean, cov, size=1)\n",
    "        loc_x = location[0][0]\n",
    "        loc_y = location[0][1]\n",
    "        f.write(str(loc_x) + \" \")\n",
    "        f.write(str(loc_y) + \" \")\n",
    "        f.write(str(prefs[0]) + \" \" + str(prefs[1]) + \" \" + str(prefs[2]) + \"\\n\")\n",
    "    f.close()"
   ]
  },
  {
   "cell_type": "code",
   "execution_count": null,
   "metadata": {},
   "outputs": [],
   "source": []
  },
  {
   "cell_type": "markdown",
   "metadata": {},
   "source": [
    "### Geometry functions"
   ]
  },
  {
   "cell_type": "code",
   "execution_count": 107,
   "metadata": {},
   "outputs": [],
   "source": [
    "# get a point on a side from distance along that side\n",
    "def left_y(x):\n",
    "    if x > 500 or x < 0:\n",
    "        return None\n",
    "    return x * np.sqrt(3)\n",
    "\n",
    "def get_left_point(d):\n",
    "    return (d / 2, d / 2 * np.sqrt(3))\n",
    "    \n",
    "def get_right_point(d):\n",
    "    l_point = get_left_point(d)\n",
    "    return (1000 - l_point[0], l_point[1])\n",
    "\n",
    "def get_bottom_point(d):\n",
    "    return (d, 0)\n",
    "\n",
    "get_point = {0: get_bottom_point, 1: get_left_point, 2: get_right_point}\n",
    "\n",
    "# functions to get points on sides given x\n",
    "def y_bottom(x):\n",
    "    return 0\n",
    "def y_left(x):\n",
    "    return x * np.sqrt(3)\n",
    "def y_right(x):\n",
    "    return np.sqrt(3) * (1000 - x)\n",
    "\n",
    "# check bounds\n",
    "def in_bounds(point):\n",
    "    x, y = point[0], point[1]\n",
    "    condition1 = y >= y_bottom(x)\n",
    "    condition2 = y <= y_left(x)\n",
    "    condition3 = y <= y_right(x)\n",
    "    return condition1 and condition2 and condition3\n",
    "\n",
    "# functions to move away from a side of the triangle\n",
    "def right_side_deltas(d):\n",
    "    return (-d/2 * np.sqrt(3), -d/2)\n",
    "def left_side_deltas(d):\n",
    "    return (d/2 * np.sqrt(3), -d/2)\n",
    "def bottom_side_deltas(d):\n",
    "    return (0, d)\n",
    "\n",
    "get_deltas = {0: bottom_side_deltas, 1: left_side_deltas, 2: right_side_deltas}"
   ]
  },
  {
   "cell_type": "markdown",
   "metadata": {},
   "source": [
    "### Get voter points and voter preferences"
   ]
  },
  {
   "cell_type": "code",
   "execution_count": 108,
   "metadata": {},
   "outputs": [],
   "source": [
    "def generate_fuzzy_coastal_point():\n",
    "    while(True):\n",
    "        side = np.random.randint(3)\n",
    "        d = np.random.normal(500, 300)\n",
    "        border_point = get_point[side](d)\n",
    "        dis_in = np.random.exponential() * 50\n",
    "        deltas = get_deltas[side](dis_in)\n",
    "        point = (border_point[0] + deltas[0], border_point[1] + deltas[1])\n",
    "        if in_bounds(point):\n",
    "            return point\n",
    "\n",
    "locs = []\n",
    "for i in range(222222):\n",
    "    locs.append(generate_fuzzy_coastal_point())"
   ]
  },
  {
   "cell_type": "code",
   "execution_count": 109,
   "metadata": {},
   "outputs": [],
   "source": [
    "make_coastal(\"utah1\", locs)"
   ]
  },
  {
   "cell_type": "code",
   "execution_count": 110,
   "metadata": {},
   "outputs": [],
   "source": [
    "make_central(\"utah1\")"
   ]
  },
  {
   "cell_type": "markdown",
   "metadata": {},
   "source": [
    "### Print map to file"
   ]
  },
  {
   "cell_type": "code",
   "execution_count": 18,
   "metadata": {},
   "outputs": [],
   "source": [
    "make_map(\"map2\", locs, preferences)"
   ]
  },
  {
   "cell_type": "code",
   "execution_count": 37,
   "metadata": {},
   "outputs": [],
   "source": [
    "class Point:\n",
    "    def __init__(self, x,y):\n",
    "        self.x = x\n",
    "        self.y = y\n",
    "    def __repr__(self):\n",
    "        return \"({}, {})\".format(self.x, self.y)"
   ]
  },
  {
   "cell_type": "code",
   "execution_count": 38,
   "metadata": {},
   "outputs": [],
   "source": [
    "map_points = [Point(0,0), Point(1000,0), Point(500, 500 * np.sqrt(3))]\n",
    "mean_x = np.mean([map_points[0].x, map_points[1].x, map_points[2].x])\n",
    "mean_y = np.mean([map_points[0].y, map_points[1].y, map_points[2].y])\n",
    "centroid = Point(mean_x, mean_y)"
   ]
  },
  {
   "cell_type": "code",
   "execution_count": 46,
   "metadata": {},
   "outputs": [],
   "source": [
    "x_linspace = np.linspace(0,1000, 28)\n",
    "triangles_bottom = []\n",
    "for i in range(27):\n",
    "    triangle = [centroid]\n",
    "    triangle.append(Point(x_linspace[i], 0))\n",
    "    triangle.append(Point(x_linspace[i+1], 0))\n",
    "    triangles_bottom.append(triangle)\n",
    "    \n",
    "    "
   ]
  },
  {
   "cell_type": "code",
   "execution_count": 48,
   "metadata": {},
   "outputs": [],
   "source": [
    "x_linspace = np.linspace(0, 500, 28)\n",
    "triangles_left = []\n",
    "for i in range(27):\n",
    "    triangle = [centroid]\n",
    "    x = x_linspace[i]\n",
    "    y = y_left(x)\n",
    "    triangle.append(Point(x, y))\n",
    "    x = x_linspace[i + 1]\n",
    "    y = y_left(x)\n",
    "    triangle.append(Point(x, y))\n",
    "    triangles_left.append(triangle)\n",
    "    \n",
    "    "
   ]
  },
  {
   "cell_type": "code",
   "execution_count": 51,
   "metadata": {},
   "outputs": [],
   "source": [
    "x_linspace = np.linspace(500, 1000, 28)\n",
    "triangles_right = []\n",
    "for i in range(27):\n",
    "    triangle = [centroid]\n",
    "    x = x_linspace[i]\n",
    "    y = y_right(x)\n",
    "    triangle.append(Point(x, y))\n",
    "    x = x_linspace[i + 1]\n",
    "    y = y_right(x)\n",
    "    triangle.append(Point(x, y))\n",
    "    triangles_right.append(triangle)"
   ]
  },
  {
   "cell_type": "code",
   "execution_count": 49,
   "metadata": {},
   "outputs": [],
   "source": [
    "def make_triangles_file(name, triangles):\n",
    "    f = open(name, \"w\")\n",
    "    num_poly = len(triangles)\n",
    "    line = str(num_poly) + \"\\n\"\n",
    "    f.write(line)\n",
    "    for triangle in triangles:\n",
    "        f.write(str(3) + \" \")\n",
    "        for point in triangle:\n",
    "            f.write(str(point.x) + \" \" + str(point.y) + \" \")\n",
    "        f.write(\"\\n\")\n",
    "    f.close()"
   ]
  },
  {
   "cell_type": "code",
   "execution_count": 52,
   "metadata": {},
   "outputs": [],
   "source": [
    "make_triangles_file(\"triangles_right\", triangles_right)"
   ]
  },
  {
   "cell_type": "code",
   "execution_count": null,
   "metadata": {},
   "outputs": [],
   "source": []
  }
 ],
 "metadata": {
  "kernelspec": {
   "display_name": "Python 3",
   "language": "python",
   "name": "python3"
  },
  "language_info": {
   "codemirror_mode": {
    "name": "ipython",
    "version": 3
   },
   "file_extension": ".py",
   "mimetype": "text/x-python",
   "name": "python",
   "nbconvert_exporter": "python",
   "pygments_lexer": "ipython3",
   "version": "3.6.7"
  }
 },
 "nbformat": 4,
 "nbformat_minor": 2
}
